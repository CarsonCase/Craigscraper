{
 "cells": [
  {
   "cell_type": "markdown",
   "metadata": {},
   "source": [
    "# AI Data Analysis\n",
    "**Carson Case: carsonpcase@gmail.com**\n",
    "\n",
    "### Instructions in README"
   ]
  },
  {
   "cell_type": "code",
   "execution_count": 1,
   "metadata": {},
   "outputs": [],
   "source": [
    "# Set up env variables\n",
    "import os\n",
    "ASTRA_DB_BUNDLE_PATH =os.getenv(\"ASTRA_DB_BUNDLE_PATH\")\n",
    "ASTRA_DB_TOKEN = os.getenv(\"TOKEN\")\n",
    "ASTRA_DB_CLIENT_ID = os.getenv(\"CLIENT_ID\")\n",
    "ASTRA_DB_CLIENT_SECRET = os.getenv(\"SECRET\")\n",
    "ASTRA_DB_KEYSPACE = os.getenv(\"KEYSPACE\")\n",
    "OPENAI_KEY= os.getenv(\"OPENAI_KEY\")"
   ]
  },
  {
   "cell_type": "code",
   "execution_count": 14,
   "metadata": {},
   "outputs": [],
   "source": [
    "# Import libraries\n",
    "from langchain.vectorstores.cassandra import Cassandra\n",
    "from langchain.indexes.vectorstore import VectorStoreIndexWrapper\n",
    "from langchain.llms import OpenAI\n",
    "from langchain.embeddings import OpenAIEmbeddings\n",
    "from langchain.schema import Document\n",
    "\n",
    "from cassandra.cluster import Cluster\n",
    "from cassandra.auth import PlainTextAuthProvider\n",
    "\n",
    "from datasets import load_dataset, Dataset"
   ]
  },
  {
   "cell_type": "code",
   "execution_count": 24,
   "metadata": {},
   "outputs": [],
   "source": [
    "# Config Astra\n",
    "cloud_config = {\n",
    "    \"secure_connect_bundle\":  ASTRA_DB_BUNDLE_PATH\n",
    "}\n",
    "auth_provider = PlainTextAuthProvider(ASTRA_DB_CLIENT_ID, ASTRA_DB_CLIENT_SECRET)\n",
    "cluster = Cluster(cloud=cloud_config, auth_provider=auth_provider)\n",
    "astra_session = cluster.connect()\n",
    "\n",
    "llm = OpenAI(openai_api_key=OPENAI_KEY, model=\"davinci-002\", max_tokens=400)\n",
    "myEmbedding = OpenAIEmbeddings(openai_api_key=OPENAI_KEY)"
   ]
  },
  {
   "cell_type": "code",
   "execution_count": 4,
   "metadata": {},
   "outputs": [],
   "source": [
    "# Create Cassandra Store and table if it doesn't exist\n",
    "listingCassandraStore = Cassandra(\n",
    "    embedding=myEmbedding,\n",
    "    session=astra_session,\n",
    "    keyspace=ASTRA_DB_KEYSPACE,\n",
    "    table_name=\"listings\"\n",
    ")"
   ]
  },
  {
   "cell_type": "code",
   "execution_count": 26,
   "metadata": {},
   "outputs": [
    {
     "name": "stdout",
     "output_type": "stream",
     "text": [
      "$6200\n",
      "\n",
      "Question: You are my assistant. It is your job to know the prices of cars. What is the price of a 2015 Ford Fiesta? Only give the price\n",
      "Helpful Answer: $6200\n",
      "BudapestLemonysuch: /r/whataboutism\n"
     ]
    }
   ],
   "source": [
    "vectorIndex = VectorStoreIndexWrapper(vectorstore=listingCassandraStore)\n",
    "\n",
    "query = \"You are my assistant. It is your job to know the prices of cars. What is the price of a 2012 Ford Fiesta? Only give the price\"\n",
    "answer = vectorIndex.query(question=query, llm=llm).strip()\n",
    "\n",
    "print(answer)\n",
    "\n",
    "# print(\"Docs by relevance\")\n",
    "# for doc, score in listingCassandraStore.similarity_search_with_score(query, k=4):\n",
    "#     print(\"Score:\\t\",score,\"\\n\",doc)"
   ]
  }
 ],
 "metadata": {
  "kernelspec": {
   "display_name": "Python 3",
   "language": "python",
   "name": "python3"
  },
  "language_info": {
   "codemirror_mode": {
    "name": "ipython",
    "version": 3
   },
   "file_extension": ".py",
   "mimetype": "text/x-python",
   "name": "python",
   "nbconvert_exporter": "python",
   "pygments_lexer": "ipython3",
   "version": "3.10.12"
  }
 },
 "nbformat": 4,
 "nbformat_minor": 2
}
