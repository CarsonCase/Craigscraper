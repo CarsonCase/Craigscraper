{
 "cells": [
  {
   "cell_type": "markdown",
   "metadata": {},
   "source": [
    "# Craiglist Valuation\n",
    "**By: Carson Case (carsonpcase@gmail.com)**\n",
    "\n",
    "1. Get listings from db"
   ]
  },
  {
   "cell_type": "code",
   "execution_count": 1,
   "metadata": {},
   "outputs": [],
   "source": [
    "import sqlite3\n",
    "def get_listings():\n",
    "    \"\"\"Returns a list of all listings.\"\"\"\n",
    "    # Connect to the database.\n",
    "    db = sqlite3.connect(\"db/listings.db\")\n",
    "    cursor = db.cursor()\n",
    "\n",
    "    # Get all listings from the database.\n",
    "    cursor.execute(\"SELECT * FROM listings\")\n",
    "\n",
    "    # Create a list of all listings.\n",
    "    listings = []\n",
    "    for row in cursor.fetchall():\n",
    "        listings.append(row)\n",
    "\n",
    "    # Close the connection to the database.\n",
    "    db.close()\n",
    "\n",
    "    # Return the list of listings.\n",
    "    return listings\n",
    "\n",
    "items = get_listings()"
   ]
  },
  {
   "cell_type": "markdown",
   "metadata": {},
   "source": [
    "2. Clean and format data"
   ]
  },
  {
   "cell_type": "code",
   "execution_count": 3,
   "metadata": {},
   "outputs": [],
   "source": [
    "import pandas as pd\n",
    "df = pd.DataFrame(items, columns=[\"id\", \"title\",\"price\", \"link\"])\n",
    "df[\"price\"] = df[\"price\"].apply(lambda p: int(p.replace('$', '').replace(',', '')))\n",
    "df = df[[\"title\", \"price\", \"link\"]]"
   ]
  },
  {
   "cell_type": "code",
   "execution_count": 5,
   "metadata": {},
   "outputs": [
    {
     "name": "stdout",
     "output_type": "stream",
     "text": [
      "<class 'pandas.core.frame.DataFrame'>\n",
      "RangeIndex: 109240 entries, 0 to 109239\n",
      "Data columns (total 3 columns):\n",
      " #   Column  Non-Null Count   Dtype \n",
      "---  ------  --------------   ----- \n",
      " 0   title   109240 non-null  object\n",
      " 1   price   109240 non-null  int64 \n",
      " 2   link    109240 non-null  object\n",
      "dtypes: int64(1), object(2)\n",
      "memory usage: 2.5+ MB\n"
     ]
    }
   ],
   "source": [
    "df.info()"
   ]
  },
  {
   "cell_type": "markdown",
   "metadata": {},
   "source": [
    "### Valuation process:\n",
    "For a certain make/model/year\n",
    "Find all vehicles for sale that have the same make and model, average price and apply a weight for the year's accuracy\n",
    "Return the average weighted price of the vehicle"
   ]
  },
  {
   "cell_type": "code",
   "execution_count": 36,
   "metadata": {},
   "outputs": [
    {
     "name": "stdout",
     "output_type": "stream",
     "text": [
      "<class 'pandas.core.frame.DataFrame'>\n",
      "Index: 114 entries, 3680 to 108316\n",
      "Data columns (total 3 columns):\n",
      " #   Column  Non-Null Count  Dtype \n",
      "---  ------  --------------  ----- \n",
      " 0   title   114 non-null    object\n",
      " 1   price   114 non-null    int64 \n",
      " 2   link    114 non-null    object\n",
      "dtypes: int64(1), object(2)\n",
      "memory usage: 3.6+ KB\n"
     ]
    },
    {
     "name": "stderr",
     "output_type": "stream",
     "text": [
      "/tmp/ipykernel_4229/3743880615.py:6: UserWarning: Boolean Series key will be reindexed to match DataFrame index.\n",
      "  fdf = fdf[df[\"title\"].str.contains(model, case=False)]\n"
     ]
    }
   ],
   "source": [
    "make = \"Mercedes\"\n",
    "model = \"e350\"\n",
    "year = 2011\n",
    "\n",
    "fdf = df[df[\"title\"].str.contains(make, case=False)]\n",
    "fdf = fdf[df[\"title\"].str.contains(model, case=False)]\n",
    "fdf.info()"
   ]
  },
  {
   "cell_type": "code",
   "execution_count": 38,
   "metadata": {},
   "outputs": [
    {
     "name": "stdout",
     "output_type": "stream",
     "text": [
      "SAME YEAR\n",
      "SAME YEAR\n",
      "SAME YEAR\n",
      "SAME YEAR\n",
      "SAME YEAR\n",
      "SAME YEAR\n",
      "SAME YEAR\n",
      "SAME YEAR\n",
      "SAME YEAR\n",
      "SAME YEAR\n",
      "11748.421052631578\n"
     ]
    }
   ],
   "source": [
    "totalPrice = 0\n",
    "count = 0\n",
    "for car in fdf.iterrows():\n",
    "    totalPrice += float(car[1][\"price\"])\n",
    "    if str(year) in car[1][\"title\"]:\n",
    "        print(\"SAME YEAR\")\n",
    "        continue\n",
    "    if str(year-1) in car[1][\"title\"]:\n",
    "        count += 2\n",
    "        continue\n",
    "    if str(year+1) in car[1][\"title\"]:\n",
    "        count +=2\n",
    "        continue\n",
    "    count += 3\n",
    "\n",
    "print(totalPrice / fdf.count()[\"price\"])\n",
    "#fdf[\"price\"].plot(kind=\"hist\",bins=10)"
   ]
  },
  {
   "cell_type": "code",
   "execution_count": null,
   "metadata": {},
   "outputs": [],
   "source": []
  }
 ],
 "metadata": {
  "kernelspec": {
   "display_name": "Python 3",
   "language": "python",
   "name": "python3"
  },
  "language_info": {
   "codemirror_mode": {
    "name": "ipython",
    "version": 3
   },
   "file_extension": ".py",
   "mimetype": "text/x-python",
   "name": "python",
   "nbconvert_exporter": "python",
   "pygments_lexer": "ipython3",
   "version": "3.10.12"
  }
 },
 "nbformat": 4,
 "nbformat_minor": 2
}
