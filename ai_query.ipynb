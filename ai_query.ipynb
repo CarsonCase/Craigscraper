{
 "cells": [
  {
   "cell_type": "markdown",
   "metadata": {},
   "source": [
    "# AI Data Analysis\n",
    "**Carson Case: carsonpcase@gmail.com**\n",
    "\n",
    "### Instructions in README"
   ]
  },
  {
   "cell_type": "code",
   "execution_count": 8,
   "metadata": {},
   "outputs": [],
   "source": [
    "# Set up env variables\n",
    "import os\n",
    "ASTRA_DB_BUNDLE_PATH =os.getenv(\"ASTRA_DB_BUNDLE_PATH\")\n",
    "ASTRA_DB_TOKEN = os.getenv(\"TOKEN\")\n",
    "ASTRA_DB_CLIENT_ID = os.getenv(\"CLIENT_ID\")\n",
    "ASTRA_DB_CLIENT_SECRET = os.getenv(\"SECRET\")\n",
    "ASTRA_DB_KEYSPACE = os.getenv(\"KEYSPACE\")\n",
    "OPENAI_KEY= os.getenv(\"OPENAI_KEY\")"
   ]
  },
  {
   "cell_type": "code",
   "execution_count": 9,
   "metadata": {},
   "outputs": [],
   "source": [
    "# Import libraries\n",
    "from langchain.vectorstores.cassandra import Cassandra\n",
    "from langchain.indexes.vectorstore import VectorStoreIndexWrapper\n",
    "from langchain.chat_models import ChatOpenAI\n",
    "from langchain.embeddings import OpenAIEmbeddings\n",
    "from langchain.schema import Document\n",
    "from langchain_core.messages import HumanMessage, SystemMessage\n",
    "\n",
    "from cassandra.cluster import Cluster\n",
    "from cassandra.auth import PlainTextAuthProvider\n",
    "\n",
    "from datasets import load_dataset, Dataset"
   ]
  },
  {
   "cell_type": "code",
   "execution_count": 11,
   "metadata": {},
   "outputs": [],
   "source": [
    "# Config Astra\n",
    "cloud_config = {\n",
    "    \"secure_connect_bundle\":  ASTRA_DB_BUNDLE_PATH\n",
    "}\n",
    "auth_provider = PlainTextAuthProvider(ASTRA_DB_CLIENT_ID, ASTRA_DB_CLIENT_SECRET)\n",
    "cluster = Cluster(cloud=cloud_config, auth_provider=auth_provider)\n",
    "astra_session = cluster.connect()\n",
    "\n",
    "chat = ChatOpenAI(openai_api_key=OPENAI_KEY, model=\"gpt-3.5-turbo-16k\", max_tokens=500)\n",
    "myEmbedding = OpenAIEmbeddings(openai_api_key=OPENAI_KEY)"
   ]
  },
  {
   "cell_type": "code",
   "execution_count": 12,
   "metadata": {},
   "outputs": [],
   "source": [
    "# Create Cassandra Store and table if it doesn't exist\n",
    "listingCassandraStore = Cassandra(\n",
    "    embedding=myEmbedding,\n",
    "    session=astra_session,\n",
    "    keyspace=ASTRA_DB_KEYSPACE,\n",
    "    table_name=\"listings\"\n",
    ")"
   ]
  },
  {
   "cell_type": "code",
   "execution_count": 22,
   "metadata": {},
   "outputs": [
    {
     "data": {
      "text/plain": [
       "AIMessage(content='Based on the market data provided, the average price for a 2018 Ford F150 is around $26,995. Your offer of $20,000 is significantly lower than the market average. It would be advisable to consider adjusting your price to be more in line with the market value in order to attract potential buyers.')"
      ]
     },
     "execution_count": 22,
     "metadata": {},
     "output_type": "execute_result"
    }
   ],
   "source": [
    "vectorIndex = VectorStoreIndexWrapper(vectorstore=listingCassandraStore)\n",
    "\n",
    "query = \"I have a 2018 Ford F150 for $20,000 for sale\"\n",
    "\n",
    "data = listingCassandraStore.similarity_search(query, k=6)\n",
    "messages = [\n",
    "    SystemMessage(content=\"You are looking to buy a used car. You are a very smart and well educated person who knows the current market data for used cars. Provide an educated analysis of offers presented to you. Explicitly say at the end of your message if you are interested or not interested in the offer. The following is the relevant market data at your disposal: \"+str(data)),\n",
    "    HumanMessage(content=query),\n",
    "]\n",
    "\n",
    "chat.invoke(messages)\n"
   ]
  },
  {
   "cell_type": "code",
   "execution_count": null,
   "metadata": {},
   "outputs": [],
   "source": []
  }
 ],
 "metadata": {
  "kernelspec": {
   "display_name": "Python 3",
   "language": "python",
   "name": "python3"
  },
  "language_info": {
   "codemirror_mode": {
    "name": "ipython",
    "version": 3
   },
   "file_extension": ".py",
   "mimetype": "text/x-python",
   "name": "python",
   "nbconvert_exporter": "python",
   "pygments_lexer": "ipython3",
   "version": "3.10.12"
  }
 },
 "nbformat": 4,
 "nbformat_minor": 2
}
