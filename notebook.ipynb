{
 "cells": [
  {
   "cell_type": "code",
   "execution_count": 2,
   "metadata": {},
   "outputs": [],
   "source": [
    "import pandas as pd\n",
    "import requests"
   ]
  },
  {
   "cell_type": "code",
   "execution_count": 68,
   "metadata": {},
   "outputs": [],
   "source": [
    "url = \"http://127.0.0.1:8090/api/collections/listing/records\"\n",
    "\n",
    "req = requests.get(url)\n",
    "\n",
    "data = req.json()\n",
    "pages = data[\"totalPages\"]\n",
    "items = data[\"items\"]\n",
    "\n",
    "for i in range(1,pages):\n",
    "    req = requests.get(url+\"?page=\"+str(i))\n",
    "    data = req.json()\n",
    "    items = items + data[\"items\"]"
   ]
  },
  {
   "cell_type": "code",
   "execution_count": 69,
   "metadata": {},
   "outputs": [],
   "source": [
    "df = pd.DataFrame(items)\n",
    "df[\"price\"] = df[\"price\"].apply(lambda p: int(p.replace('$', '').replace(',', '')))\n",
    "df = df[[\"title\", \"price\"]]"
   ]
  },
  {
   "cell_type": "code",
   "execution_count": 76,
   "metadata": {},
   "outputs": [
    {
     "data": {
      "text/html": [
       "<div>\n",
       "<style scoped>\n",
       "    .dataframe tbody tr th:only-of-type {\n",
       "        vertical-align: middle;\n",
       "    }\n",
       "\n",
       "    .dataframe tbody tr th {\n",
       "        vertical-align: top;\n",
       "    }\n",
       "\n",
       "    .dataframe thead th {\n",
       "        text-align: right;\n",
       "    }\n",
       "</style>\n",
       "<table border=\"1\" class=\"dataframe\">\n",
       "  <thead>\n",
       "    <tr style=\"text-align: right;\">\n",
       "      <th></th>\n",
       "      <th>title</th>\n",
       "      <th>price</th>\n",
       "    </tr>\n",
       "  </thead>\n",
       "  <tbody>\n",
       "    <tr>\n",
       "      <th>175</th>\n",
       "      <td>2008 *Mack* *GU-800 ROLL OFF CONTAINER TRUCK *...</td>\n",
       "      <td>109995</td>\n",
       "    </tr>\n",
       "    <tr>\n",
       "      <th>422</th>\n",
       "      <td>2008 *Mack* *GU-800 ROLL OFF CONTAINER TRUCK *...</td>\n",
       "      <td>109995</td>\n",
       "    </tr>\n",
       "    <tr>\n",
       "      <th>312</th>\n",
       "      <td>2022 JEEP WRANGLER UNLIMITED RUBICON 392 RECON...</td>\n",
       "      <td>84997</td>\n",
       "    </tr>\n",
       "    <tr>\n",
       "      <th>342</th>\n",
       "      <td>2022 JEEP WRANGLER UNLIMITED RUBICON 392 RECON...</td>\n",
       "      <td>84997</td>\n",
       "    </tr>\n",
       "    <tr>\n",
       "      <th>378</th>\n",
       "      <td>2020 Ram 2500 with 2022 Gooseneck Trailer</td>\n",
       "      <td>80000</td>\n",
       "    </tr>\n",
       "    <tr>\n",
       "      <th>...</th>\n",
       "      <td>...</td>\n",
       "      <td>...</td>\n",
       "    </tr>\n",
       "    <tr>\n",
       "      <th>438</th>\n",
       "      <td>Need a Vehicle?? Come down to 4300 North 1st A...</td>\n",
       "      <td>1111</td>\n",
       "    </tr>\n",
       "    <tr>\n",
       "      <th>194</th>\n",
       "      <td>02 Toyota Camry and other vehicles for finance...</td>\n",
       "      <td>1000</td>\n",
       "    </tr>\n",
       "    <tr>\n",
       "      <th>133</th>\n",
       "      <td>02 Toyota Camry and other vehicles for finance...</td>\n",
       "      <td>1000</td>\n",
       "    </tr>\n",
       "    <tr>\n",
       "      <th>380</th>\n",
       "      <td>2003 Dodge Caravan Ran when parked.</td>\n",
       "      <td>300</td>\n",
       "    </tr>\n",
       "    <tr>\n",
       "      <th>408</th>\n",
       "      <td>2003 Dodge Caravan Ran when parked.</td>\n",
       "      <td>300</td>\n",
       "    </tr>\n",
       "  </tbody>\n",
       "</table>\n",
       "<p>343 rows × 2 columns</p>\n",
       "</div>"
      ],
      "text/plain": [
       "                                                 title   price\n",
       "175  2008 *Mack* *GU-800 ROLL OFF CONTAINER TRUCK *...  109995\n",
       "422  2008 *Mack* *GU-800 ROLL OFF CONTAINER TRUCK *...  109995\n",
       "312  2022 JEEP WRANGLER UNLIMITED RUBICON 392 RECON...   84997\n",
       "342  2022 JEEP WRANGLER UNLIMITED RUBICON 392 RECON...   84997\n",
       "378          2020 Ram 2500 with 2022 Gooseneck Trailer   80000\n",
       "..                                                 ...     ...\n",
       "438  Need a Vehicle?? Come down to 4300 North 1st A...    1111\n",
       "194  02 Toyota Camry and other vehicles for finance...    1000\n",
       "133  02 Toyota Camry and other vehicles for finance...    1000\n",
       "380                2003 Dodge Caravan Ran when parked.     300\n",
       "408                2003 Dodge Caravan Ran when parked.     300\n",
       "\n",
       "[343 rows x 2 columns]"
      ]
     },
     "execution_count": 76,
     "metadata": {},
     "output_type": "execute_result"
    }
   ],
   "source": [
    "df = df[df[\"price\"] != 0]\n",
    "df = df.sort_values(\"price\", ascending=False)\n",
    "df"
   ]
  }
 ],
 "metadata": {
  "kernelspec": {
   "display_name": "Python 3",
   "language": "python",
   "name": "python3"
  },
  "language_info": {
   "codemirror_mode": {
    "name": "ipython",
    "version": 3
   },
   "file_extension": ".py",
   "mimetype": "text/x-python",
   "name": "python",
   "nbconvert_exporter": "python",
   "pygments_lexer": "ipython3",
   "version": "3.10.12"
  }
 },
 "nbformat": 4,
 "nbformat_minor": 2
}
