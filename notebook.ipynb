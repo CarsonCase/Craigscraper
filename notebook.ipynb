{
 "cells": [
  {
   "cell_type": "code",
   "execution_count": 47,
   "metadata": {},
   "outputs": [],
   "source": [
    "import pandas as pd\n",
    "import requests"
   ]
  },
  {
   "cell_type": "code",
   "execution_count": 134,
   "metadata": {},
   "outputs": [],
   "source": [
    "url = \"http://127.0.0.1:8090/api/collections/listing/records\"\n",
    "\n",
    "req = requests.get(url)\n",
    "\n",
    "data = req.json()\n",
    "pages = data[\"totalPages\"]\n",
    "items = data[\"items\"]\n",
    "\n",
    "for i in range(1,pages):\n",
    "    req = requests.get(url+\"?page={}\".format(i))\n",
    "    data = req.json()\n",
    "    items = items + data[\"items\"]"
   ]
  },
  {
   "cell_type": "code",
   "execution_count": 78,
   "metadata": {},
   "outputs": [],
   "source": [
    "df = pd.DataFrame(items)\n",
    "df[\"price\"] = df[\"price\"].apply(lambda p: int(p.replace('$', '').replace(',', '')))\n",
    "df = df[[\"title\", \"price\"]]"
   ]
  },
  {
   "cell_type": "code",
   "execution_count": 135,
   "metadata": {},
   "outputs": [
    {
     "name": "stdout",
     "output_type": "stream",
     "text": [
      "<class 'pandas.core.frame.DataFrame'>\n",
      "Index: 3282 entries, 1468 to 2838\n",
      "Data columns (total 2 columns):\n",
      " #   Column  Non-Null Count  Dtype \n",
      "---  ------  --------------  ----- \n",
      " 0   title   3282 non-null   object\n",
      " 1   price   3282 non-null   int64 \n",
      "dtypes: int64(1), object(1)\n",
      "memory usage: 76.9+ KB\n"
     ]
    }
   ],
   "source": [
    "df.info()"
   ]
  },
  {
   "cell_type": "code",
   "execution_count": 136,
   "metadata": {},
   "outputs": [],
   "source": [
    "df = df[df[\"price\"] != 0]\n",
    "df = df.sort_values(\"price\", ascending=False)"
   ]
  },
  {
   "cell_type": "code",
   "execution_count": 137,
   "metadata": {},
   "outputs": [],
   "source": [
    "make = \"Toyota\"\n",
    "tdf = df[df[\"title\"].str.contains(make, case=False)]"
   ]
  },
  {
   "cell_type": "code",
   "execution_count": 138,
   "metadata": {},
   "outputs": [
    {
     "data": {
      "text/html": [
       "<div>\n",
       "<style scoped>\n",
       "    .dataframe tbody tr th:only-of-type {\n",
       "        vertical-align: middle;\n",
       "    }\n",
       "\n",
       "    .dataframe tbody tr th {\n",
       "        vertical-align: top;\n",
       "    }\n",
       "\n",
       "    .dataframe thead th {\n",
       "        text-align: right;\n",
       "    }\n",
       "</style>\n",
       "<table border=\"1\" class=\"dataframe\">\n",
       "  <thead>\n",
       "    <tr style=\"text-align: right;\">\n",
       "      <th></th>\n",
       "      <th>title</th>\n",
       "      <th>price</th>\n",
       "    </tr>\n",
       "  </thead>\n",
       "  <tbody>\n",
       "    <tr>\n",
       "      <th>1511</th>\n",
       "      <td>2019 Toyota 4Runner SR5 Premium / 4X4 / Power ...</td>\n",
       "      <td>353995</td>\n",
       "    </tr>\n",
       "    <tr>\n",
       "      <th>1064</th>\n",
       "      <td>2019 Toyota 4Runner SR5 Premium / 4X4 / Power ...</td>\n",
       "      <td>353995</td>\n",
       "    </tr>\n",
       "    <tr>\n",
       "      <th>1468</th>\n",
       "      <td>2019 Toyota 4Runner SR5 Premium / 4X4 / Power ...</td>\n",
       "      <td>353995</td>\n",
       "    </tr>\n",
       "    <tr>\n",
       "      <th>1450</th>\n",
       "      <td>2021 Toyota Tundra Army Green *SAVE $$$*</td>\n",
       "      <td>56988</td>\n",
       "    </tr>\n",
       "    <tr>\n",
       "      <th>3083</th>\n",
       "      <td>2021 Toyota Tundra Army Green *SAVE $$$*</td>\n",
       "      <td>56988</td>\n",
       "    </tr>\n",
       "    <tr>\n",
       "      <th>...</th>\n",
       "      <td>...</td>\n",
       "      <td>...</td>\n",
       "    </tr>\n",
       "    <tr>\n",
       "      <th>141</th>\n",
       "      <td>Toyota Camry</td>\n",
       "      <td>3299</td>\n",
       "    </tr>\n",
       "    <tr>\n",
       "      <th>481</th>\n",
       "      <td>Toyota Camry</td>\n",
       "      <td>3299</td>\n",
       "    </tr>\n",
       "    <tr>\n",
       "      <th>1427</th>\n",
       "      <td>&gt;&gt;&gt; $2,500 DOWN *** 2010 TOYOTA TUNDRA SR5 ***...</td>\n",
       "      <td>2500</td>\n",
       "    </tr>\n",
       "    <tr>\n",
       "      <th>2824</th>\n",
       "      <td>&gt;&gt;&gt; $2,500 DOWN *** 2010 TOYOTA TUNDRA SR5 ***...</td>\n",
       "      <td>2500</td>\n",
       "    </tr>\n",
       "    <tr>\n",
       "      <th>2071</th>\n",
       "      <td>&gt;&gt;&gt; $2,500 DOWN *** 2010 TOYOTA TUNDRA SR5 ***...</td>\n",
       "      <td>2500</td>\n",
       "    </tr>\n",
       "  </tbody>\n",
       "</table>\n",
       "<p>308 rows × 2 columns</p>\n",
       "</div>"
      ],
      "text/plain": [
       "                                                  title   price\n",
       "1511  2019 Toyota 4Runner SR5 Premium / 4X4 / Power ...  353995\n",
       "1064  2019 Toyota 4Runner SR5 Premium / 4X4 / Power ...  353995\n",
       "1468  2019 Toyota 4Runner SR5 Premium / 4X4 / Power ...  353995\n",
       "1450           2021 Toyota Tundra Army Green *SAVE $$$*   56988\n",
       "3083           2021 Toyota Tundra Army Green *SAVE $$$*   56988\n",
       "...                                                 ...     ...\n",
       "141                                        Toyota Camry    3299\n",
       "481                                        Toyota Camry    3299\n",
       "1427  >>> $2,500 DOWN *** 2010 TOYOTA TUNDRA SR5 ***...    2500\n",
       "2824  >>> $2,500 DOWN *** 2010 TOYOTA TUNDRA SR5 ***...    2500\n",
       "2071  >>> $2,500 DOWN *** 2010 TOYOTA TUNDRA SR5 ***...    2500\n",
       "\n",
       "[308 rows x 2 columns]"
      ]
     },
     "execution_count": 138,
     "metadata": {},
     "output_type": "execute_result"
    }
   ],
   "source": [
    "tdf"
   ]
  },
  {
   "cell_type": "code",
   "execution_count": 139,
   "metadata": {},
   "outputs": [
    {
     "name": "stdout",
     "output_type": "stream",
     "text": [
      "<class 'pandas.core.frame.DataFrame'>\n",
      "Index: 305 entries, 1450 to 2071\n",
      "Data columns (total 2 columns):\n",
      " #   Column  Non-Null Count  Dtype \n",
      "---  ------  --------------  ----- \n",
      " 0   title   305 non-null    object\n",
      " 1   price   305 non-null    int64 \n",
      "dtypes: int64(1), object(1)\n",
      "memory usage: 7.1+ KB\n"
     ]
    },
    {
     "data": {
      "text/plain": [
       "<Axes: ylabel='Frequency'>"
      ]
     },
     "execution_count": 139,
     "metadata": {},
     "output_type": "execute_result"
    },
    {
     "data": {
      "image/png": "[encoded data removed]",
      "text/plain": [
       "<Figure size 640x480 with 1 Axes>"
      ]
     },
     "metadata": {},
     "output_type": "display_data"
    }
   ],
   "source": [
    "tdf = tdf[tdf[\"price\"] <= 100000]\n",
    "tdf.info()\n",
    "tdf[\"price\"].plot(kind=\"hist\",bins=10)"
   ]
  },
  {
   "cell_type": "code",
   "execution_count": null,
   "metadata": {},
   "outputs": [],
   "source": []
  }
 ],
 "metadata": {
  "kernelspec": {
   "display_name": "Python 3",
   "language": "python",
   "name": "python3"
  },
  "language_info": {
   "codemirror_mode": {
    "name": "ipython",
    "version": 3
   },
   "file_extension": ".py",
   "mimetype": "text/x-python",
   "name": "python",
   "nbconvert_exporter": "python",
   "pygments_lexer": "ipython3",
   "version": "3.10.12"
  }
 },
 "nbformat": 4,
 "nbformat_minor": 2
}
