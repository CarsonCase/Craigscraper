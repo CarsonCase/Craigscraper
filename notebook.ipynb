{
 "cells": [
  {
   "cell_type": "code",
   "execution_count": 1,
   "metadata": {},
   "outputs": [],
   "source": [
    "import pandas as pd\n",
    "import requests\n",
    "import sqlite3"
   ]
  },
  {
   "cell_type": "code",
   "execution_count": 10,
   "metadata": {},
   "outputs": [],
   "source": [
    "def get_listings():\n",
    "    \"\"\"Returns a list of all listings.\"\"\"\n",
    "    # Connect to the database.\n",
    "    db = sqlite3.connect(\"db/listings.db\")\n",
    "    cursor = db.cursor()\n",
    "\n",
    "    # Get all listings from the database.\n",
    "    cursor.execute(\"SELECT * FROM listings\")\n",
    "\n",
    "    # Create a list of all listings.\n",
    "    listings = []\n",
    "    for row in cursor.fetchall():\n",
    "        listings.append(row)\n",
    "\n",
    "    # Close the connection to the database.\n",
    "    db.close()\n",
    "\n",
    "    # Return the list of listings.\n",
    "    return listings\n",
    "\n",
    "items = get_listings()"
   ]
  },
  {
   "cell_type": "code",
   "execution_count": 17,
   "metadata": {},
   "outputs": [],
   "source": [
    "df = pd.DataFrame(items, columns=[\"id\", \"title\",\"price\", \"link\"])\n",
    "df[\"price\"] = df[\"price\"].apply(lambda p: int(p.replace('$', '').replace(',', '')))\n",
    "df = df[[\"title\", \"price\"]]"
   ]
  },
  {
   "cell_type": "code",
   "execution_count": 18,
   "metadata": {},
   "outputs": [
    {
     "name": "stdout",
     "output_type": "stream",
     "text": [
      "<class 'pandas.core.frame.DataFrame'>\n",
      "RangeIndex: 18990 entries, 0 to 18989\n",
      "Data columns (total 2 columns):\n",
      " #   Column  Non-Null Count  Dtype \n",
      "---  ------  --------------  ----- \n",
      " 0   title   18990 non-null  object\n",
      " 1   price   18990 non-null  int64 \n",
      "dtypes: int64(1), object(1)\n",
      "memory usage: 296.8+ KB\n"
     ]
    }
   ],
   "source": [
    "df.info()"
   ]
  },
  {
   "cell_type": "code",
   "execution_count": 19,
   "metadata": {},
   "outputs": [],
   "source": [
    "df = df[df[\"price\"] != 0]\n",
    "df = df.sort_values(\"price\", ascending=False)"
   ]
  },
  {
   "cell_type": "code",
   "execution_count": 20,
   "metadata": {},
   "outputs": [],
   "source": [
    "make = \"Toyota\"\n",
    "tdf = df[df[\"title\"].str.contains(make, case=False)]"
   ]
  },
  {
   "cell_type": "code",
   "execution_count": 21,
   "metadata": {},
   "outputs": [
    {
     "data": {
      "text/html": [
       "<div>\n",
       "<style scoped>\n",
       "    .dataframe tbody tr th:only-of-type {\n",
       "        vertical-align: middle;\n",
       "    }\n",
       "\n",
       "    .dataframe tbody tr th {\n",
       "        vertical-align: top;\n",
       "    }\n",
       "\n",
       "    .dataframe thead th {\n",
       "        text-align: right;\n",
       "    }\n",
       "</style>\n",
       "<table border=\"1\" class=\"dataframe\">\n",
       "  <thead>\n",
       "    <tr style=\"text-align: right;\">\n",
       "      <th></th>\n",
       "      <th>title</th>\n",
       "      <th>price</th>\n",
       "    </tr>\n",
       "  </thead>\n",
       "  <tbody>\n",
       "    <tr>\n",
       "      <th>7369</th>\n",
       "      <td>2022 Toyota Tundra Limited, Twin Turbo V6, 4X4...</td>\n",
       "      <td>59995</td>\n",
       "    </tr>\n",
       "    <tr>\n",
       "      <th>7286</th>\n",
       "      <td>2022 Toyota Tundra Limited, Twin Turbo V6, 4X4...</td>\n",
       "      <td>59995</td>\n",
       "    </tr>\n",
       "    <tr>\n",
       "      <th>7258</th>\n",
       "      <td>2022 Toyota Tundra Limited, Twin Turbo V6, 4X4...</td>\n",
       "      <td>59995</td>\n",
       "    </tr>\n",
       "    <tr>\n",
       "      <th>7367</th>\n",
       "      <td>2022 Toyota Tundra Limited, Twin Turbo V6, 4X4...</td>\n",
       "      <td>59995</td>\n",
       "    </tr>\n",
       "    <tr>\n",
       "      <th>7304</th>\n",
       "      <td>2022 Toyota Tundra Limited, Twin Turbo V6, 4X4...</td>\n",
       "      <td>59995</td>\n",
       "    </tr>\n",
       "    <tr>\n",
       "      <th>...</th>\n",
       "      <td>...</td>\n",
       "      <td>...</td>\n",
       "    </tr>\n",
       "    <tr>\n",
       "      <th>2749</th>\n",
       "      <td>02 Toyota Camry and other vehicles for finance...</td>\n",
       "      <td>1000</td>\n",
       "    </tr>\n",
       "    <tr>\n",
       "      <th>2748</th>\n",
       "      <td>02 Toyota Camry and other vehicles for finance...</td>\n",
       "      <td>1000</td>\n",
       "    </tr>\n",
       "    <tr>\n",
       "      <th>2750</th>\n",
       "      <td>02 Toyota Camry and other vehicles for finance...</td>\n",
       "      <td>1000</td>\n",
       "    </tr>\n",
       "    <tr>\n",
       "      <th>2751</th>\n",
       "      <td>02 Toyota Camry and other vehicles for finance...</td>\n",
       "      <td>1000</td>\n",
       "    </tr>\n",
       "    <tr>\n",
       "      <th>2752</th>\n",
       "      <td>02 Toyota Camry and other vehicles for finance...</td>\n",
       "      <td>1000</td>\n",
       "    </tr>\n",
       "  </tbody>\n",
       "</table>\n",
       "<p>1365 rows × 2 columns</p>\n",
       "</div>"
      ],
      "text/plain": [
       "                                                  title  price\n",
       "7369  2022 Toyota Tundra Limited, Twin Turbo V6, 4X4...  59995\n",
       "7286  2022 Toyota Tundra Limited, Twin Turbo V6, 4X4...  59995\n",
       "7258  2022 Toyota Tundra Limited, Twin Turbo V6, 4X4...  59995\n",
       "7367  2022 Toyota Tundra Limited, Twin Turbo V6, 4X4...  59995\n",
       "7304  2022 Toyota Tundra Limited, Twin Turbo V6, 4X4...  59995\n",
       "...                                                 ...    ...\n",
       "2749  02 Toyota Camry and other vehicles for finance...   1000\n",
       "2748  02 Toyota Camry and other vehicles for finance...   1000\n",
       "2750  02 Toyota Camry and other vehicles for finance...   1000\n",
       "2751  02 Toyota Camry and other vehicles for finance...   1000\n",
       "2752  02 Toyota Camry and other vehicles for finance...   1000\n",
       "\n",
       "[1365 rows x 2 columns]"
      ]
     },
     "execution_count": 21,
     "metadata": {},
     "output_type": "execute_result"
    }
   ],
   "source": [
    "tdf"
   ]
  },
  {
   "cell_type": "code",
   "execution_count": 22,
   "metadata": {},
   "outputs": [
    {
     "name": "stdout",
     "output_type": "stream",
     "text": [
      "<class 'pandas.core.frame.DataFrame'>\n",
      "Index: 1365 entries, 7369 to 2752\n",
      "Data columns (total 2 columns):\n",
      " #   Column  Non-Null Count  Dtype \n",
      "---  ------  --------------  ----- \n",
      " 0   title   1365 non-null   object\n",
      " 1   price   1365 non-null   int64 \n",
      "dtypes: int64(1), object(1)\n",
      "memory usage: 32.0+ KB\n"
     ]
    },
    {
     "data": {
      "text/plain": [
       "<Axes: ylabel='Frequency'>"
      ]
     },
     "execution_count": 22,
     "metadata": {},
     "output_type": "execute_result"
    },
    {
     "data": {
      "image/png": "[encoded data removed]",
      "text/plain": [
       "<Figure size 640x480 with 1 Axes>"
      ]
     },
     "metadata": {},
     "output_type": "display_data"
    }
   ],
   "source": [
    "tdf = tdf[tdf[\"price\"] <= 100000]\n",
    "tdf.info()\n",
    "tdf[\"price\"].plot(kind=\"hist\",bins=10)"
   ]
  },
  {
   "cell_type": "code",
   "execution_count": null,
   "metadata": {},
   "outputs": [],
   "source": []
  }
 ],
 "metadata": {
  "kernelspec": {
   "display_name": "Python 3",
   "language": "python",
   "name": "python3"
  },
  "language_info": {
   "codemirror_mode": {
    "name": "ipython",
    "version": 3
   },
   "file_extension": ".py",
   "mimetype": "text/x-python",
   "name": "python",
   "nbconvert_exporter": "python",
   "pygments_lexer": "ipython3",
   "version": "3.10.12"
  }
 },
 "nbformat": 4,
 "nbformat_minor": 2
}
