{
 "cells": [
  {
   "cell_type": "markdown",
   "metadata": {},
   "source": [
    "# AI Data Analysis\n",
    "**Carson Case: carsonpcase@gmail.com**\n",
    "\n",
    "### Instructions in README"
   ]
  },
  {
   "cell_type": "code",
   "execution_count": 15,
   "metadata": {},
   "outputs": [],
   "source": [
    "# Set up env variables\n",
    "import os\n",
    "ASTRA_DB_BUNDLE_PATH =os.getenv(\"ASTRA_DB_BUNDLE_PATH\")\n",
    "ASTRA_DB_TOKEN = os.getenv(\"TOKEN\")\n",
    "ASTRA_DB_CLIENT_ID = os.getenv(\"CLIENT_ID\")\n",
    "ASTRA_DB_CLIENT_SECRET = os.getenv(\"SECRET\")\n",
    "ASTRA_DB_KEYSPACE = os.getenv(\"KEYSPACE\")\n",
    "OPENAI_KEY= os.getenv(\"OPENAI_KEY\")"
   ]
  },
  {
   "cell_type": "code",
   "execution_count": 16,
   "metadata": {},
   "outputs": [],
   "source": [
    "# Import libraries\n",
    "from langchain.vectorstores.cassandra import Cassandra\n",
    "from langchain.indexes.vectorstore import VectorStoreIndexWrapper\n",
    "from langchain.llms import OpenAI\n",
    "from langchain.embeddings import OpenAIEmbeddings\n",
    "from langchain.schema import Document\n",
    "\n",
    "from cassandra.cluster import Cluster\n",
    "from cassandra.auth import PlainTextAuthProvider\n",
    "\n",
    "from datasets import load_dataset, Dataset"
   ]
  },
  {
   "cell_type": "code",
   "execution_count": 17,
   "metadata": {},
   "outputs": [],
   "source": [
    "# Config Astra\n",
    "clound_config = {\n",
    "    \"secure_connect_bundle\":  ASTRA_DB_BUNDLE_PATH\n",
    "}\n",
    "auth_provider = PlainTextAuthProvider(ASTRA_DB_CLIENT_ID, ASTRA_DB_CLIENT_SECRET)\n",
    "cluster = Cluster(cloud=clound_config, auth_provider=auth_provider)\n",
    "astra_session = cluster.connect()\n",
    "\n",
    "llm = OpenAI(openai_api_key=OPENAI_KEY)\n",
    "myEmbedding = OpenAIEmbeddings(openai_api_key=OPENAI_KEY)"
   ]
  },
  {
   "cell_type": "code",
   "execution_count": 19,
   "metadata": {},
   "outputs": [],
   "source": [
    "# Create Cassandra Store and table if it doesn't exist\n",
    "listingCassandraStore = Cassandra(\n",
    "    embedding=myEmbedding,\n",
    "    session=astra_session,\n",
    "    keyspace=ASTRA_DB_KEYSPACE,\n",
    "    table_name=\"listings\"\n",
    ")"
   ]
  },
  {
   "cell_type": "code",
   "execution_count": 20,
   "metadata": {},
   "outputs": [
    {
     "name": "stdout",
     "output_type": "stream",
     "text": [
      "<class 'pandas.core.frame.DataFrame'>\n",
      "Index: 101999 entries, 36036 to 88968\n",
      "Data columns (total 3 columns):\n",
      " #   Column  Non-Null Count   Dtype \n",
      "---  ------  --------------   ----- \n",
      " 0   title   101999 non-null  object\n",
      " 1   price   101999 non-null  int64 \n",
      " 2   link    101999 non-null  object\n",
      "dtypes: int64(1), object(2)\n",
      "memory usage: 3.1+ MB\n"
     ]
    }
   ],
   "source": [
    "# Import listing data\n",
    "import sqlite3\n",
    "import pandas as pd\n",
    "\n",
    "def get_listings():\n",
    "    \"\"\"Returns a list of all listings.\"\"\"\n",
    "    # Connect to the database.\n",
    "    db = sqlite3.connect(\"db/listings.db\")\n",
    "    cursor = db.cursor()\n",
    "\n",
    "    # Get all listings from the database.\n",
    "    cursor.execute(\"SELECT * FROM listings\")\n",
    "\n",
    "    # Create a list of all listings.\n",
    "    listings = []\n",
    "    for row in cursor.fetchall():\n",
    "        listings.append(row)\n",
    "\n",
    "    # Close the connection to the database.\n",
    "    db.close()\n",
    "\n",
    "    # Return the list of listings.\n",
    "    return listings\n",
    "\n",
    "# retrieve listings from sqlite\n",
    "items = get_listings()\n",
    "\n",
    "# create dataframe and clean it up\n",
    "df = pd.DataFrame(items, columns=[\"id\", \"title\",\"price\", \"link\"])\n",
    "df[\"price\"] = df[\"price\"].apply(lambda p: int(p.replace('$', '').replace(',', '')))\n",
    "df = df[[\"title\", \"price\", \"link\"]]\n",
    "df = df[df[\"price\"] != 0]\n",
    "\n",
    "# sort decending price\n",
    "df = df.sort_values(\"price\", ascending=False)\n",
    "\n",
    "df.info()"
   ]
  },
  {
   "cell_type": "code",
   "execution_count": 27,
   "metadata": {},
   "outputs": [
    {
     "name": "stdout",
     "output_type": "stream",
     "text": [
      "\n",
      "Inserted 255 documents.\n",
      "\n",
      " Embedded 25499/101999 listings\n"
     ]
    }
   ],
   "source": [
    "docs = []\n",
    "# Set Size of chunks to publish. Larger chunks make embedding much faster \n",
    "chunksize = 100\n",
    "# Set Size to embed. OpenAI will limit tokens per minute, chunking will not help you here and you may have to do at separate times\n",
    "sizeToEmbed = int(len(df)/4)\n",
    "\n",
    "for i in range(0, sizeToEmbed, chunksize):\n",
    "    textDoc = \"\"\n",
    "    for j in range(i, (i+chunksize) % sizeToEmbed):\n",
    "        row = df.iloc[j]\n",
    "        textDoc += row[\"title\"] + \": $\"+str(row[\"price\"]) +\"\\n\"\n",
    "    docs.append(Document(page_content=textDoc))\n",
    "\n",
    "inserted_ids = listingCassandraStore.add_documents(docs)\n",
    "print(f\"\\nInserted {len(inserted_ids)} documents.\")\n",
    "print(f\"\\n Embedded {sizeToEmbed}/{len(df)} listings\")"
   ]
  },
  {
   "cell_type": "code",
   "execution_count": 29,
   "metadata": {},
   "outputs": [
    {
     "name": "stdout",
     "output_type": "stream",
     "text": [
      "The price listed above is for a 2007 Mercedes-Benz E-Class 4dr Sdn 6.3L AMG RWD and is $16995. A normal price for a Mercedes e350 may vary depending on the year, model, and condition of the vehicle.\n",
      "Docs by relevance\n",
      "Score:\t 0.9315984957609272 \n",
      " page_content='2007 Mercedes-Benz E-Class 4dr Sdn 6.3L AMG RWD: $16995'\n",
      "Score:\t 0.9315984957609272 \n",
      " page_content='2007 Mercedes-Benz E-Class 4dr Sdn 6.3L AMG RWD: $16995'\n",
      "Score:\t 0.9315828684726786 \n",
      " page_content='2007 Mercedes-Benz E-Class 4dr Sdn 6.3L AMG RWD: $16995'\n",
      "Score:\t 0.9315671865588695 \n",
      " page_content='2007 Mercedes-Benz E-Class 4dr Sdn 6.3L AMG RWD: $16995'\n"
     ]
    }
   ],
   "source": [
    "vectorIndex = VectorStoreIndexWrapper(vectorstore=listingCassandraStore)\n",
    "\n",
    "query = \"What is a normal price for a Mercedes e350?\"\n",
    "answer = vectorIndex.query(question=query, llm=llm).strip()\n",
    "\n",
    "print(answer)\n",
    "\n",
    "print(\"Docs by relevance\")\n",
    "for doc, score in listingCassandraStore.similarity_search_with_score(query, k=4):\n",
    "    print(\"Score:\\t\",score,\"\\n\",doc)"
   ]
  }
 ],
 "metadata": {
  "kernelspec": {
   "display_name": "Python 3",
   "language": "python",
   "name": "python3"
  },
  "language_info": {
   "codemirror_mode": {
    "name": "ipython",
    "version": 3
   },
   "file_extension": ".py",
   "mimetype": "text/x-python",
   "name": "python",
   "nbconvert_exporter": "python",
   "pygments_lexer": "ipython3",
   "version": "3.10.12"
  }
 },
 "nbformat": 4,
 "nbformat_minor": 2
}
