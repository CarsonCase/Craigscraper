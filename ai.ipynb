{
 "cells": [
  {
   "cell_type": "code",
   "execution_count": 1,
   "metadata": {},
   "outputs": [],
   "source": [
    "import os"
   ]
  },
  {
   "cell_type": "code",
   "execution_count": 2,
   "metadata": {},
   "outputs": [],
   "source": [
    "ASTRA_DB_BUNDLE_PATH =os.getenv(\"ASTRA_DB_BUNDLE_PATH\")\n",
    "ASTRA_DB_TOKEN = os.getenv(\"TOKEN\")\n",
    "ASTRA_DB_CLIENT_ID = os.getenv(\"CLIENT_ID\")\n",
    "ASTRA_DB_CLIENT_SECRET = os.getenv(\"SECRET\")\n",
    "ASTRA_DB_KEYSPACE = os.getenv(\"KEYSPACE\")\n",
    "OPENAI_KEY= os.getenv(\"OPENAI_KEY\")"
   ]
  },
  {
   "cell_type": "code",
   "execution_count": 5,
   "metadata": {},
   "outputs": [],
   "source": [
    "from langchain.vectorstores.cassandra import Cassandra\n",
    "from langchain.indexes.vectorstore import VectorStoreIndexWrapper\n",
    "from langchain.llms import OpenAI\n",
    "from langchain.embeddings import OpenAIEmbeddings\n",
    "from langchain.schema import Document\n",
    "\n",
    "from cassandra.cluster import Cluster\n",
    "from cassandra.auth import PlainTextAuthProvider\n",
    "\n",
    "from datasets import load_dataset, Dataset"
   ]
  },
  {
   "cell_type": "code",
   "execution_count": 4,
   "metadata": {},
   "outputs": [],
   "source": [
    "clound_config = {\n",
    "    \"secure_connect_bundle\":  ASTRA_DB_BUNDLE_PATH\n",
    "}\n",
    "auth_provider = PlainTextAuthProvider(ASTRA_DB_CLIENT_ID, ASTRA_DB_CLIENT_SECRET)\n",
    "cluster = Cluster(cloud=clound_config, auth_provider=auth_provider)\n",
    "astra_session = cluster.connect()\n",
    "\n",
    "llm = OpenAI(openai_api_key=OPENAI_KEY)\n",
    "myEmbedding = OpenAIEmbeddings(openai_api_key=OPENAI_KEY)"
   ]
  },
  {
   "cell_type": "code",
   "execution_count": 6,
   "metadata": {},
   "outputs": [],
   "source": [
    "listingCassandraStore = Cassandra(\n",
    "    embedding=myEmbedding,\n",
    "    session=astra_session,\n",
    "    keyspace=ASTRA_DB_KEYSPACE,\n",
    "    table_name=\"listings\"\n",
    ")"
   ]
  },
  {
   "cell_type": "code",
   "execution_count": 18,
   "metadata": {},
   "outputs": [
    {
     "name": "stdout",
     "output_type": "stream",
     "text": [
      "\n",
      "Inserted 3002 documents.\n"
     ]
    }
   ],
   "source": [
    "import sqlite3\n",
    "import pandas as pd\n",
    "def get_listings():\n",
    "    \"\"\"Returns a list of all listings.\"\"\"\n",
    "    # Connect to the database.\n",
    "    db = sqlite3.connect(\"db/listings.db\")\n",
    "    cursor = db.cursor()\n",
    "\n",
    "    # Get all listings from the database.\n",
    "    cursor.execute(\"SELECT * FROM listings\")\n",
    "\n",
    "    # Create a list of all listings.\n",
    "    listings = []\n",
    "    for row in cursor.fetchall():\n",
    "        listings.append(row)\n",
    "\n",
    "    # Close the connection to the database.\n",
    "    db.close()\n",
    "\n",
    "    # Return the list of listings.\n",
    "    return listings\n",
    "\n",
    "items = get_listings()\n",
    "\n",
    "df = pd.DataFrame(items, columns=[\"id\", \"title\",\"price\", \"link\"])\n",
    "df[\"price\"] = df[\"price\"].apply(lambda p: int(p.replace('$', '').replace(',', '')))\n",
    "df = df[[\"title\", \"price\", \"link\"]]\n",
    "\n",
    "docs = []\n",
    "for id, row in df.iterrows():\n",
    "    doc = Document(page_content=row[\"title\"] + \": $\"+str(row[\"price\"]))\n",
    "    docs.append(doc)\n",
    "\n",
    "    # Getting embeddings from openAi is really slow. So until this gets optimized, it's limited to just 300 entries\n",
    "    if id > 3000:\n",
    "        break\n",
    "\n",
    "inserted_ids = listingCassandraStore.add_documents(docs)\n",
    "print(f\"\\nInserted {len(inserted_ids)} documents.\")"
   ]
  },
  {
   "cell_type": "code",
   "execution_count": 8,
   "metadata": {},
   "outputs": [
    {
     "name": "stdout",
     "output_type": "stream",
     "text": [
      "The 2011 Subaru Impreza is the cheapest car that's on the market and has a year after 2011. It is priced at $9000.\n",
      "Docs by relevance\n",
      "Score:\t 0.9075767619050981 \n",
      " page_content='2011 Subaru Impreza: $9000'\n",
      "Score:\t 0.9075196627005928 \n",
      " page_content='2011 Subaru Impreza: $9000'\n",
      "Score:\t 0.9075196627005928 \n",
      " page_content='2011 Subaru Impreza: $9000'\n",
      "Score:\t 0.9075196627005928 \n",
      " page_content='2011 Subaru Impreza: $9000'\n"
     ]
    }
   ],
   "source": [
    "vectorIndex = VectorStoreIndexWrapper(vectorstore=listingCassandraStore)\n",
    "\n",
    "query = \"What is the cheapest car that's on the market and has a year after 2011?\"\n",
    "answer = vectorIndex.query(question=query, llm=llm).strip()\n",
    "\n",
    "print(answer)\n",
    "\n",
    "print(\"Docs by relevance\")\n",
    "for doc, score in listingCassandraStore.similarity_search_with_score(query, k=4):\n",
    "    print(\"Score:\\t\",score,\"\\n\",doc)"
   ]
  }
 ],
 "metadata": {
  "kernelspec": {
   "display_name": "Python 3",
   "language": "python",
   "name": "python3"
  },
  "language_info": {
   "codemirror_mode": {
    "name": "ipython",
    "version": 3
   },
   "file_extension": ".py",
   "mimetype": "text/x-python",
   "name": "python",
   "nbconvert_exporter": "python",
   "pygments_lexer": "ipython3",
   "version": "3.10.12"
  }
 },
 "nbformat": 4,
 "nbformat_minor": 2
}
