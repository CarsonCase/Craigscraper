{
 "cells": [
  {
   "cell_type": "code",
   "execution_count": 1,
   "metadata": {},
   "outputs": [],
   "source": [
    "import pandas as pd\n",
    "import requests\n",
    "import sqlite3"
   ]
  },
  {
   "cell_type": "code",
   "execution_count": 2,
   "metadata": {},
   "outputs": [],
   "source": [
    "def get_listings():\n",
    "    \"\"\"Returns a list of all listings.\"\"\"\n",
    "    # Connect to the database.\n",
    "    db = sqlite3.connect(\"db/listings.db\")\n",
    "    cursor = db.cursor()\n",
    "\n",
    "    # Get all listings from the database.\n",
    "    cursor.execute(\"SELECT * FROM listings\")\n",
    "\n",
    "    # Create a list of all listings.\n",
    "    listings = []\n",
    "    for row in cursor.fetchall():\n",
    "        listings.append(row)\n",
    "\n",
    "    # Close the connection to the database.\n",
    "    db.close()\n",
    "\n",
    "    # Return the list of listings.\n",
    "    return listings\n",
    "\n",
    "items = get_listings()"
   ]
  },
  {
   "cell_type": "code",
   "execution_count": 3,
   "metadata": {},
   "outputs": [],
   "source": [
    "df = pd.DataFrame(items, columns=[\"id\", \"title\",\"price\", \"link\"])\n",
    "df[\"price\"] = df[\"price\"].apply(lambda p: int(p.replace('$', '').replace(',', '')))\n",
    "df = df[[\"title\", \"price\", \"link\"]]"
   ]
  },
  {
   "cell_type": "code",
   "execution_count": 4,
   "metadata": {},
   "outputs": [
    {
     "name": "stdout",
     "output_type": "stream",
     "text": [
      "<class 'pandas.core.frame.DataFrame'>\n",
      "RangeIndex: 109240 entries, 0 to 109239\n",
      "Data columns (total 3 columns):\n",
      " #   Column  Non-Null Count   Dtype \n",
      "---  ------  --------------   ----- \n",
      " 0   title   109240 non-null  object\n",
      " 1   price   109240 non-null  int64 \n",
      " 2   link    109240 non-null  object\n",
      "dtypes: int64(1), object(2)\n",
      "memory usage: 2.5+ MB\n"
     ]
    }
   ],
   "source": [
    "df.info()"
   ]
  },
  {
   "cell_type": "code",
   "execution_count": 5,
   "metadata": {},
   "outputs": [],
   "source": [
    "df = df[df[\"price\"] != 0]\n",
    "df = df.sort_values(\"price\", ascending=False)"
   ]
  },
  {
   "cell_type": "code",
   "execution_count": 13,
   "metadata": {},
   "outputs": [],
   "source": [
    "make = \"2018 Ford F150\"\n",
    "tdf = df[df[\"title\"].str.contains(make, case=False)]"
   ]
  },
  {
   "cell_type": "code",
   "execution_count": 14,
   "metadata": {},
   "outputs": [
    {
     "data": {
      "text/html": [
       "<div>\n",
       "<style scoped>\n",
       "    .dataframe tbody tr th:only-of-type {\n",
       "        vertical-align: middle;\n",
       "    }\n",
       "\n",
       "    .dataframe tbody tr th {\n",
       "        vertical-align: top;\n",
       "    }\n",
       "\n",
       "    .dataframe thead th {\n",
       "        text-align: right;\n",
       "    }\n",
       "</style>\n",
       "<table border=\"1\" class=\"dataframe\">\n",
       "  <thead>\n",
       "    <tr style=\"text-align: right;\">\n",
       "      <th></th>\n",
       "      <th>title</th>\n",
       "      <th>price</th>\n",
       "      <th>link</th>\n",
       "    </tr>\n",
       "  </thead>\n",
       "  <tbody>\n",
       "    <tr>\n",
       "      <th>5257</th>\n",
       "      <td>2018 Ford F150 SuperCrew Cab Platinum Pickup 4...</td>\n",
       "      <td>44995</td>\n",
       "      <td>https://anchorage.craigslist.org/ctd/d/anchora...</td>\n",
       "    </tr>\n",
       "    <tr>\n",
       "      <th>5224</th>\n",
       "      <td>2018 Ford F150 SuperCrew Cab Platinum Pickup 4...</td>\n",
       "      <td>44995</td>\n",
       "      <td>https://anchorage.craigslist.org/ctd/d/anchora...</td>\n",
       "    </tr>\n",
       "    <tr>\n",
       "      <th>5269</th>\n",
       "      <td>2018 Ford F150 SuperCrew Cab Platinum Pickup 4...</td>\n",
       "      <td>44995</td>\n",
       "      <td>https://anchorage.craigslist.org/ctd/d/anchora...</td>\n",
       "    </tr>\n",
       "    <tr>\n",
       "      <th>5262</th>\n",
       "      <td>2018 Ford F150 SuperCrew Cab Platinum Pickup 4...</td>\n",
       "      <td>44995</td>\n",
       "      <td>https://anchorage.craigslist.org/ctd/d/anchora...</td>\n",
       "    </tr>\n",
       "    <tr>\n",
       "      <th>2208</th>\n",
       "      <td>2018 Ford F150 SuperCrew Cab Limited Pickup 4D...</td>\n",
       "      <td>43995</td>\n",
       "      <td>https://anchorage.craigslist.org/ctd/d/anchora...</td>\n",
       "    </tr>\n",
       "    <tr>\n",
       "      <th>...</th>\n",
       "      <td>...</td>\n",
       "      <td>...</td>\n",
       "      <td>...</td>\n",
       "    </tr>\n",
       "    <tr>\n",
       "      <th>15216</th>\n",
       "      <td>2018 Ford F150 F-150 SuperCrew FX4 139K Miles ...</td>\n",
       "      <td>19980</td>\n",
       "      <td>https://athensga.craigslist.org/ctd/d/houston-...</td>\n",
       "    </tr>\n",
       "    <tr>\n",
       "      <th>28046</th>\n",
       "      <td>2018 FORD F150 XL &gt;  CALL NOW! (909)&gt;587&gt;21&gt;24...</td>\n",
       "      <td>17975</td>\n",
       "      <td>https://bakersfield.craigslist.org/ctd/d/baker...</td>\n",
       "    </tr>\n",
       "    <tr>\n",
       "      <th>28080</th>\n",
       "      <td>2018 FORD F150 XL &gt;  CALL NOW! (909)&gt;587&gt;21&gt;24...</td>\n",
       "      <td>17975</td>\n",
       "      <td>https://bakersfield.craigslist.org/ctd/d/baker...</td>\n",
       "    </tr>\n",
       "    <tr>\n",
       "      <th>28081</th>\n",
       "      <td>2018 FORD F150 XL &gt;  CALL NOW! (909)&gt;587&gt;21&gt;24...</td>\n",
       "      <td>17975</td>\n",
       "      <td>https://bakersfield.craigslist.org/ctd/d/baker...</td>\n",
       "    </tr>\n",
       "    <tr>\n",
       "      <th>27841</th>\n",
       "      <td>2018 FORD F150 XL &gt;  CALL NOW! (909)&gt;587&gt;21&gt;24...</td>\n",
       "      <td>17975</td>\n",
       "      <td>https://bakersfield.craigslist.org/ctd/d/baker...</td>\n",
       "    </tr>\n",
       "  </tbody>\n",
       "</table>\n",
       "<p>149 rows × 3 columns</p>\n",
       "</div>"
      ],
      "text/plain": [
       "                                                   title  price  \\\n",
       "5257   2018 Ford F150 SuperCrew Cab Platinum Pickup 4...  44995   \n",
       "5224   2018 Ford F150 SuperCrew Cab Platinum Pickup 4...  44995   \n",
       "5269   2018 Ford F150 SuperCrew Cab Platinum Pickup 4...  44995   \n",
       "5262   2018 Ford F150 SuperCrew Cab Platinum Pickup 4...  44995   \n",
       "2208   2018 Ford F150 SuperCrew Cab Limited Pickup 4D...  43995   \n",
       "...                                                  ...    ...   \n",
       "15216  2018 Ford F150 F-150 SuperCrew FX4 139K Miles ...  19980   \n",
       "28046  2018 FORD F150 XL >  CALL NOW! (909)>587>21>24...  17975   \n",
       "28080  2018 FORD F150 XL >  CALL NOW! (909)>587>21>24...  17975   \n",
       "28081  2018 FORD F150 XL >  CALL NOW! (909)>587>21>24...  17975   \n",
       "27841  2018 FORD F150 XL >  CALL NOW! (909)>587>21>24...  17975   \n",
       "\n",
       "                                                    link  \n",
       "5257   https://anchorage.craigslist.org/ctd/d/anchora...  \n",
       "5224   https://anchorage.craigslist.org/ctd/d/anchora...  \n",
       "5269   https://anchorage.craigslist.org/ctd/d/anchora...  \n",
       "5262   https://anchorage.craigslist.org/ctd/d/anchora...  \n",
       "2208   https://anchorage.craigslist.org/ctd/d/anchora...  \n",
       "...                                                  ...  \n",
       "15216  https://athensga.craigslist.org/ctd/d/houston-...  \n",
       "28046  https://bakersfield.craigslist.org/ctd/d/baker...  \n",
       "28080  https://bakersfield.craigslist.org/ctd/d/baker...  \n",
       "28081  https://bakersfield.craigslist.org/ctd/d/baker...  \n",
       "27841  https://bakersfield.craigslist.org/ctd/d/baker...  \n",
       "\n",
       "[149 rows x 3 columns]"
      ]
     },
     "execution_count": 14,
     "metadata": {},
     "output_type": "execute_result"
    }
   ],
   "source": [
    "tdf"
   ]
  },
  {
   "cell_type": "code",
   "execution_count": 15,
   "metadata": {},
   "outputs": [
    {
     "name": "stdout",
     "output_type": "stream",
     "text": [
      "30412.442953020134\n"
     ]
    },
    {
     "data": {
      "text/plain": [
       "<Axes: ylabel='Frequency'>"
      ]
     },
     "execution_count": 15,
     "metadata": {},
     "output_type": "execute_result"
    },
    {
     "data": {
      "image/png": "[encoded data removed]",
      "text/plain": [
       "<Figure size 640x480 with 1 Axes>"
      ]
     },
     "metadata": {},
     "output_type": "display_data"
    }
   ],
   "source": [
    "print(tdf[\"price\"].mean())\n",
    "tdf = tdf[tdf[\"price\"] < 30000]\n",
    "tdf = tdf[tdf[\"price\"] > 1000]\n",
    "# tdf.info()\n",
    "tdf[\"price\"].plot(kind=\"hist\",bins=10)"
   ]
  },
  {
   "cell_type": "code",
   "execution_count": 38,
   "metadata": {},
   "outputs": [
    {
     "data": {
      "text/plain": [
       "'https://appleton.craigslist.org/cto/d/oshkosh-2014-mercedes-e350-wagon-4matic/7694662725.html'"
      ]
     },
     "execution_count": 38,
     "metadata": {},
     "output_type": "execute_result"
    }
   ],
   "source": [
    "tdf.loc[17708][\"link\"]"
   ]
  },
  {
   "cell_type": "code",
   "execution_count": null,
   "metadata": {},
   "outputs": [],
   "source": []
  }
 ],
 "metadata": {
  "kernelspec": {
   "display_name": "Python 3",
   "language": "python",
   "name": "python3"
  },
  "language_info": {
   "codemirror_mode": {
    "name": "ipython",
    "version": 3
   },
   "file_extension": ".py",
   "mimetype": "text/x-python",
   "name": "python",
   "nbconvert_exporter": "python",
   "pygments_lexer": "ipython3",
   "version": "3.10.12"
  }
 },
 "nbformat": 4,
 "nbformat_minor": 2
}
